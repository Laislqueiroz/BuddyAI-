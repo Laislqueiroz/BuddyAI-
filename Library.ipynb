{
  "nbformat": 4,
  "nbformat_minor": 0,
  "metadata": {
    "colab": {
      "provenance": [],
      "authorship_tag": "ABX9TyOyCAYOQ5CD/huJjlDItx3D",
      "include_colab_link": true
    },
    "kernelspec": {
      "name": "python3",
      "display_name": "Python 3"
    },
    "language_info": {
      "name": "python"
    }
  },
  "cells": [
    {
      "cell_type": "markdown",
      "metadata": {
        "id": "view-in-github",
        "colab_type": "text"
      },
      "source": [
        "<a href=\"https://colab.research.google.com/github/Laislqueiroz/BuddyAI-/blob/main/Library.ipynb\" target=\"_parent\"><img src=\"https://colab.research.google.com/assets/colab-badge.svg\" alt=\"Open In Colab\"/></a>"
      ]
    },
    {
      "cell_type": "code",
      "execution_count": 1,
      "metadata": {
        "colab": {
          "base_uri": "https://localhost:8080/"
        },
        "id": "lTRJZM93I9Mp",
        "outputId": "f972c75a-bdcc-485b-a66c-6a43c19812ec"
      },
      "outputs": [
        {
          "output_type": "stream",
          "name": "stdout",
          "text": [
            "Recommended Books: ['The Hobbit', 'Harry Potter', 'The Name of the Wind', 'Treasure Island', 'The Three Musketeers', 'Into the Wild']\n",
            "Quantity of 'The Hobbit': 5\n",
            "Quantity of 'The Hobbit' after removal: 3\n"
          ]
        }
      ],
      "source": [
        "class BookStoreInventory:\n",
        "    def __init__(self):\n",
        "        self.inventory = {}\n",
        "\n",
        "    def add_book(self, title, quantity):\n",
        "        if title in self.inventory:\n",
        "            self.inventory[title] += quantity\n",
        "        else:\n",
        "            self.inventory[title] = quantity\n",
        "\n",
        "    def check_quantity(self, title):\n",
        "        return self.inventory.get(title, 0)\n",
        "\n",
        "    def remove_book(self, title, quantity):\n",
        "        if title in self.inventory and self.inventory[title] >= quantity:\n",
        "            self.inventory[title] -= quantity\n",
        "            if self.inventory[title] == 0:\n",
        "                del self.inventory[title]\n",
        "            return True\n",
        "        return False\n",
        "\n",
        "    def recommend_books(self, description):\n",
        "        keywords = description.lower().split()\n",
        "        recommendations = {\n",
        "            'fantasy': ['The Hobbit', 'Harry Potter', 'The Name of the Wind'],\n",
        "            'science fiction': ['Dune', 'Neuromancer', 'Foundation'],\n",
        "            'adventure': ['Treasure Island', 'The Three Musketeers', 'Into the Wild'],\n",
        "            'action': ['Die Hard', 'Mad Max', 'John Wick'],\n",
        "            'romance': ['Pride and Prejudice', 'The Notebook', 'Me Before You'],\n",
        "        }\n",
        "\n",
        "        # Coletar recomendações de todos os keywords encontrados, sem duplicatas\n",
        "        result = []\n",
        "        for keyword in keywords:\n",
        "            if keyword in recommendations:\n",
        "                for book in recommendations[keyword]:\n",
        "                    if book not in result:\n",
        "                        result.append(book)\n",
        "        if result:\n",
        "            return result\n",
        "        return 'No recommendations available for the given description.'\n",
        "\n",
        "\n",
        "if __name__ == \"__main__\":\n",
        "    bookstore = BookStoreInventory()\n",
        "    bookstore.add_book('The Hobbit', 5)\n",
        "    bookstore.add_book('Dune', 3)\n",
        "    bookstore.add_book('Pride and Prejudice', 2)\n",
        "    bookstore.add_book('Harry Potter', 4)\n",
        "    bookstore.add_book('The Name of the Wind', 1)\n",
        "\n",
        "    recommendations = bookstore.recommend_books('fantasy adventure')\n",
        "    print(\"Recommended Books:\", recommendations)\n",
        "\n",
        "    hobbit_quantity = bookstore.check_quantity('The Hobbit')\n",
        "    print(\"Quantity of 'The Hobbit':\", hobbit_quantity)\n",
        "\n",
        "    bookstore.remove_book('The Hobbit', 2)\n",
        "\n",
        "    hobbit_quantity = bookstore.check_quantity('The Hobbit')\n",
        "    print(\"Quantity of 'The Hobbit' after removal:\", hobbit_quantity)\n"
      ]
    }
  ]
}