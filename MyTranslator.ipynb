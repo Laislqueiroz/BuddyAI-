{
  "nbformat": 4,
  "nbformat_minor": 0,
  "metadata": {
    "colab": {
      "provenance": [],
      "authorship_tag": "ABX9TyNTzd1qu+70ymPSHtw2Qh6g",
      "include_colab_link": true
    },
    "kernelspec": {
      "name": "python3",
      "display_name": "Python 3"
    },
    "language_info": {
      "name": "python"
    }
  },
  "cells": [
    {
      "cell_type": "markdown",
      "metadata": {
        "id": "view-in-github",
        "colab_type": "text"
      },
      "source": [
        "<a href=\"https://colab.research.google.com/github/Laislqueiroz/Discover_AI-/blob/main/MyTranslator.ipynb\" target=\"_parent\"><img src=\"https://colab.research.google.com/assets/colab-badge.svg\" alt=\"Open In Colab\"/></a>"
      ]
    },
    {
      "cell_type": "code",
      "execution_count": null,
      "metadata": {
        "id": "74ICUsqdYp2j"
      },
      "outputs": [],
      "source": [
        "import os\n",
        "import azure.cognitiveservices.speech as speechsdk\n",
        "git\n",
        "speach_key, service_region = \"chave\", \"localização\"\n",
        "\n",
        " #create the instance of a speech config with specified subscription key and service regio\n",
        "speech_config = speechsdk.SpeechConfig(subscription=speach_key, region=service_region)\n",
        "\n",
        "def speach_to_text():\n",
        "    #create the microphone instance\n",
        "    audio_config = speechsdk.AudioConfig(use_default_microphone=True)\n",
        "    speech_recognizer = speechsdk.SpeechRecognizer(speech_config=speech_config\n",
        "                                                   , language=\"en-US\"\n",
        "                                                   , audio_config=audio_config)\n",
        "    print(\"Say something...\")\n",
        "    while True:\n",
        "        result = speech_recognizer.recognize_once()\n",
        "        print(result.text)\n",
        "        if result.text == \"stop\":\n",
        "            break\n",
        "\n",
        "def record_audio_file():\n",
        "    #create the audio file instance\n",
        "    audio_input = speechsdk.AudioConfig(filename=\"voice.wav\")\n",
        "    speech_recognizer = speechsdk.SpeechRecognizer(speech_config=speech_config\n",
        "                                                   , language=\"en-US\"\n",
        "                                                   , audio_config=audio_input)\n",
        "    result = speech_recognizer.recognize_once()\n",
        "    print(\"Reconhecido: {}\" .format(result.text))\n",
        "\n",
        "def read_audio_translaition():\n",
        "    #create the audio translation instance\n",
        "    translation_config = speechsdk.translation.SpeechTranslationConfig(subscription=speach_key,\n",
        "                                                                        region=service_region,\n",
        "                                                                        speech_recognition_language=\"en-US\",\n",
        "                                                                        target_languages=(\"fr\", \"es-ES\", \"ko-KR\"))\n",
        "    audio_config = speechsdk.AudioConfig(filename=\"1.wav\")\n",
        "    recognizer = speechsdk.translation.TranslationRecognizer(translation_config=translation_config,\n",
        "                                                            audio_config=audio_config)\n",
        "\n",
        "    result = recognizer.recognize_once()\n",
        "    print(\"Recognized: {}\".format(result.text))\n",
        "    print(\"Translation FR: {}\".format(result.translations[\"fr\"]))\n",
        "    print(\"Translation ES: {}\".format(result.translations[\"es-ES\"]))\n",
        "    print(\"Translation KO: {}\".format(result.translations[\"ko-KR\"]))\n",
        "\n",
        "def read_voice_translaition():\n",
        "    #create the voice translation instance\n",
        "    translation_config = speechsdk.translation.SpeechTranslationConfig(subscription=speach_key,\n",
        "                                                                        region=service_region,\n",
        "                                                                        speech_recognition_language=\"en-US\",\n",
        "                                                                        target_languages=(\"fr\", \"es-ES\", \"ko-KR\"))\n",
        "    audio_config = speechsdk.AudioConfig(use_default_microphone=True)\n",
        "    recognizer = speechsdk.translation.TranslationRecognizer(translation_config=translation_config,\n",
        "                                                            audio_config=audio_config)\n",
        "    print(\"Say something...\")\n",
        "    while True:\n",
        "        result = recognizer.recognize_once()\n",
        "        print(\"Recognized: {}\".format(result.text))\n",
        "        print(\"Translation FR: {}\".format(result.translations[\"fr\"]))\n",
        "        print(\"Translation ES: {}\".format(result.translations[\"es-ES\"]))\n",
        "        print(\"Translation KO: {}\".format(result.translations[\"ko-KR\"]))\n",
        "        if result.text == \"stop\":\n",
        "            break\n",
        "\n",
        "if __name__ == \"__main__\":\n",
        "    #speach_to_text()\n",
        "    #record_audio_file()\n",
        "    #read_audio_translaition()\n",
        "    read_voice_translaition()"
      ]
    }
  ]
}